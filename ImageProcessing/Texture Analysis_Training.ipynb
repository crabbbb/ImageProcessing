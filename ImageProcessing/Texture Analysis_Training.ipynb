{
 "cells": [
  {
   "cell_type": "code",
   "execution_count": 4,
   "id": "894c262a",
   "metadata": {},
   "outputs": [],
   "source": [
    "import tensorflow as tf\n",
    "import matplotlib.pyplot as plt\n",
    "import cv2\n",
    "import os\n",
    "import numpy as np\n",
    "from tensorflow.keras.preprocessing.image import ImageDataGenerator\n",
    "from tensorflow.keras.preprocessing import image\n",
    "from tensorflow.keras.optimizers import RMSprop\n",
    "import os"
   ]
  },
  {
   "cell_type": "code",
   "execution_count": 5,
   "id": "6a0ac708",
   "metadata": {},
   "outputs": [],
   "source": [
    "train = ImageDataGenerator(rescale=1/255)\n",
    "validation = ImageDataGenerator(rescale=1/255)"
   ]
  },
  {
   "cell_type": "code",
   "execution_count": 6,
   "id": "84aa10cb",
   "metadata": {},
   "outputs": [],
   "source": [
    "### dilation and erosion\n",
    "def thin_font(image): # Erosion\n",
    "    image = cv2.bitwise_not(image)\n",
    "    kernel = np.ones((2,2), np.uint8)\n",
    "    image = cv2.erode(image, kernel, iterations=1)\n",
    "    image = cv2.bitwise_not(image)\n",
    "    return image\n",
    "\n",
    "def thick_font(image): # Dilation\n",
    "    image = cv2.bitwise_not(image)\n",
    "    kernel = np.ones((2,2), np.uint8)\n",
    "    image = cv2.dilate(image, kernel, iterations=1)\n",
    "    image = cv2.bitwise_not(image)\n",
    "    return image"
   ]
  },
  {
   "cell_type": "code",
   "execution_count": 7,
   "id": "9bad958f",
   "metadata": {},
   "outputs": [],
   "source": [
    "def compute_lbp(image, radius=1, neighbors=8):\n",
    "    # Convert the image to grayscale if it's in color\n",
    "    if len(image.shape) > 2:\n",
    "        gray = cv2.cvtColor(image, cv2.COLOR_BGR2GRAY)\n",
    "    else:\n",
    "        gray = image\n",
    "\n",
    "    # Compute the LBP image\n",
    "    lbp = np.zeros_like(gray)\n",
    "    for i in range(len(gray)):\n",
    "        for j in range(len(gray[0])):\n",
    "            center = gray[i, j]\n",
    "            pattern = 0\n",
    "            for k in range(neighbors):\n",
    "                x = i + int(round(radius * np.cos(2 * np.pi * k / neighbors)))\n",
    "                y = j - int(round(radius * np.sin(2 * np.pi * k / neighbors)))\n",
    "                if x >= 0 and x < len(gray) and y >= 0 and y < len(gray[0]):\n",
    "                    pattern |= (gray[x, y] >= center) << k\n",
    "            lbp[i, j] = pattern\n",
    "\n",
    "    return lbp"
   ]
  },
  {
   "cell_type": "code",
   "execution_count": 5,
   "id": "538aa845",
   "metadata": {},
   "outputs": [],
   "source": [
    "training_defects = \"./process_training/defects\"\n",
    "training_apples = \"./process_training/apples\"\n",
    "validate_apples = \"./process_validation/apples\"\n",
    "validate_defects = \"./process_validation/defects\"\n",
    "\n",
    "# Output folder to save Color_segmentation images\n",
    "output_train_defects = \"./texture_training/defects\"\n",
    "output_train_apples = \"./texture_training/apples\"\n",
    "output_valid_apples = \"./texture_validation/apples\"\n",
    "output_valid_defects = \"./texture_validation/defects\"\n",
    "\n",
    "# Process images in Training Defects\n",
    "for filename in os.listdir(training_defects):\n",
    "    img_path = os.path.join(training_defects, filename)\n",
    "    img = cv2.imread(img_path)\n",
    "#     thick_img = thick_font(img)\n",
    "#     processed_img = thin_font(thick_img)\n",
    "    processed_img = compute_lbp(img)\n",
    "    output_path = os.path.join(output_train_defects, f'{filename}')\n",
    "    cv2.imwrite(output_path, processed_img)\n",
    "\n",
    "# Process images in Training Apples\n",
    "for filename in os.listdir(training_apples):\n",
    "    img_path = os.path.join(training_apples, filename)\n",
    "    img = cv2.imread(img_path)\n",
    "#     thick_img = thick_font(img)\n",
    "#     processed_img = thin_font(thick_img)\n",
    "    processed_img = compute_lbp(img)\n",
    "    output_path = os.path.join(output_train_apples, f'{filename}')\n",
    "    cv2.imwrite(output_path, processed_img)\n",
    "    \n",
    "# Process images in Validate Apples\n",
    "for filename in os.listdir(validate_apples):\n",
    "    img_path = os.path.join(validate_apples, filename)\n",
    "    img = cv2.imread(img_path)\n",
    "#     thick_img = thick_font(img)\n",
    "#     processed_img = thin_font(thick_img)\n",
    "    processed_img = compute_lbp(img)\n",
    "    output_path = os.path.join(output_valid_apples, f'{filename}')\n",
    "    cv2.imwrite(output_path, processed_img)\n",
    "    \n",
    "# Process images in Validate Defects\n",
    "for filename in os.listdir(validate_defects):\n",
    "    img_path = os.path.join(validate_defects, filename)\n",
    "    img = cv2.imread(img_path)\n",
    "#     thick_img = thick_font(img)\n",
    "#     processed_img = thin_font(thick_img)\n",
    "    processed_img = compute_lbp(img)\n",
    "    output_path = os.path.join(output_valid_defects, f'{filename}')\n",
    "    cv2.imwrite(output_path, processed_img)"
   ]
  },
  {
   "cell_type": "code",
   "execution_count": 8,
   "id": "72786e66",
   "metadata": {},
   "outputs": [
    {
     "name": "stdout",
     "output_type": "stream",
     "text": [
      "Found 456 images belonging to 2 classes.\n",
      "Found 663 images belonging to 2 classes.\n"
     ]
    }
   ],
   "source": [
    "train_dataset = train.flow_from_directory(\n",
    "    './texture_training/',\n",
    "    target_size = (256, 256),\n",
    "    batch_size = 10,\n",
    "    class_mode = 'binary'\n",
    ")\n",
    "\n",
    "validation_dataset = validation.flow_from_directory(\n",
    "    './texture_validation/',\n",
    "    target_size = (256, 256),\n",
    "    batch_size = 10,\n",
    "    class_mode = 'binary'\n",
    ")"
   ]
  },
  {
   "cell_type": "code",
   "execution_count": 9,
   "id": "b5bca8d5",
   "metadata": {},
   "outputs": [
    {
     "data": {
      "text/plain": [
       "{'apples': 0, 'defects': 1}"
      ]
     },
     "execution_count": 9,
     "metadata": {},
     "output_type": "execute_result"
    }
   ],
   "source": [
    "# To differentiate between classes\n",
    "train_dataset.class_indices"
   ]
  },
  {
   "cell_type": "code",
   "execution_count": 10,
   "id": "72f5c8b8",
   "metadata": {},
   "outputs": [],
   "source": [
    "model = tf.keras.models.Sequential([\n",
    "    tf.keras.layers.Conv2D(15, (3,3), activation='relu', input_shape=(256,256, 1)),\n",
    "    tf.keras.layers.MaxPool2D(2,2),\n",
    "    tf.keras.layers.Conv2D(30, (3,3), activation='relu'),\n",
    "    tf.keras.layers.MaxPool2D(2,2),\n",
    "    tf.keras.layers.Conv2D(60, (3,3), activation='relu'),\n",
    "    tf.keras.layers.MaxPool2D(2,2),\n",
    "    tf.keras.layers.Flatten(),\n",
    "    tf.keras.layers.Dense(512, activation='relu'),\n",
    "    tf.keras.layers.Dense(1, activation='sigmoid')                                \n",
    "])"
   ]
  },
  {
   "cell_type": "code",
   "execution_count": 17,
   "id": "232ffa66",
   "metadata": {},
   "outputs": [
    {
     "name": "stdout",
     "output_type": "stream",
     "text": [
      "WARNING:tensorflow:From C:\\Users\\LAPTOP\\anaconda3\\Lib\\site-packages\\keras\\src\\optimizers\\__init__.py:309: The name tf.train.Optimizer is deprecated. Please use tf.compat.v1.train.Optimizer instead.\n",
      "\n"
     ]
    }
   ],
   "source": [
    "# binary_crossentropy - binary classification (between the true labels and the predicted probabilities) \n",
    "# lr too hight may lead to instability or divergence - overshoot the minimum of the loss\n",
    "# metric - track accuracy (the proportion of correctly classified samples)\n",
    "model.compile(loss='binary_crossentropy',\n",
    "              optimizer = RMSprop(learning_rate=0.001),\n",
    "              metrics=['accuracy']\n",
    ")"
   ]
  },
  {
   "cell_type": "code",
   "execution_count": 18,
   "id": "2ce7c6d9",
   "metadata": {},
   "outputs": [
    {
     "name": "stdout",
     "output_type": "stream",
     "text": [
      "Epoch 1/30\n",
      "28/28 [==============================] - 15s 485ms/step - loss: 0.0097 - accuracy: 0.9964 - val_loss: 2.5500 - val_accuracy: 0.5566\n",
      "Epoch 2/30\n",
      "28/28 [==============================] - 11s 402ms/step - loss: 0.1008 - accuracy: 0.9536 - val_loss: 1.9617 - val_accuracy: 0.4615\n",
      "Epoch 3/30\n",
      "28/28 [==============================] - 11s 409ms/step - loss: 0.0390 - accuracy: 0.9891 - val_loss: 1.3340 - val_accuracy: 0.5913\n",
      "Epoch 4/30\n",
      "28/28 [==============================] - 11s 411ms/step - loss: 0.0023 - accuracy: 1.0000 - val_loss: 1.6544 - val_accuracy: 0.5490\n",
      "Epoch 5/30\n",
      "28/28 [==============================] - 12s 429ms/step - loss: 3.9175e-04 - accuracy: 1.0000 - val_loss: 1.6542 - val_accuracy: 0.5505\n",
      "Epoch 6/30\n",
      "28/28 [==============================] - 12s 418ms/step - loss: 2.9580e-04 - accuracy: 1.0000 - val_loss: 1.7169 - val_accuracy: 0.5430\n",
      "Epoch 7/30\n",
      "28/28 [==============================] - 12s 423ms/step - loss: 3.2559e-04 - accuracy: 1.0000 - val_loss: 1.7356 - val_accuracy: 0.5505\n",
      "Epoch 8/30\n",
      "28/28 [==============================] - 12s 431ms/step - loss: 1.3747e-04 - accuracy: 1.0000 - val_loss: 1.8031 - val_accuracy: 0.5445\n",
      "Epoch 9/30\n",
      "28/28 [==============================] - 11s 412ms/step - loss: 1.6339e-04 - accuracy: 1.0000 - val_loss: 1.8819 - val_accuracy: 0.5354\n",
      "Epoch 10/30\n",
      "28/28 [==============================] - 12s 415ms/step - loss: 1.0601e-04 - accuracy: 1.0000 - val_loss: 1.8800 - val_accuracy: 0.5460\n",
      "Epoch 11/30\n",
      "28/28 [==============================] - 12s 418ms/step - loss: 9.1043e-05 - accuracy: 1.0000 - val_loss: 1.9404 - val_accuracy: 0.5370\n",
      "Epoch 12/30\n",
      "28/28 [==============================] - 12s 418ms/step - loss: 6.2721e-05 - accuracy: 1.0000 - val_loss: 1.9705 - val_accuracy: 0.5354\n",
      "Epoch 13/30\n",
      "28/28 [==============================] - 11s 412ms/step - loss: 4.9871e-05 - accuracy: 1.0000 - val_loss: 2.0269 - val_accuracy: 0.5249\n",
      "Epoch 14/30\n",
      "28/28 [==============================] - 11s 405ms/step - loss: 4.8725e-05 - accuracy: 1.0000 - val_loss: 1.9583 - val_accuracy: 0.5415\n",
      "Epoch 15/30\n",
      "28/28 [==============================] - 11s 405ms/step - loss: 3.9963e-05 - accuracy: 1.0000 - val_loss: 1.9921 - val_accuracy: 0.5400\n",
      "Epoch 16/30\n",
      "28/28 [==============================] - 12s 422ms/step - loss: 2.7537e-05 - accuracy: 1.0000 - val_loss: 2.0679 - val_accuracy: 0.5234\n",
      "Epoch 17/30\n",
      "28/28 [==============================] - 12s 418ms/step - loss: 3.2934e-05 - accuracy: 1.0000 - val_loss: 2.1802 - val_accuracy: 0.5113\n",
      "Epoch 18/30\n",
      "28/28 [==============================] - 12s 418ms/step - loss: 2.4113e-05 - accuracy: 1.0000 - val_loss: 2.1804 - val_accuracy: 0.5128\n",
      "Epoch 19/30\n",
      "28/28 [==============================] - 12s 420ms/step - loss: 1.9972e-05 - accuracy: 1.0000 - val_loss: 2.2040 - val_accuracy: 0.5113\n",
      "Epoch 20/30\n",
      "28/28 [==============================] - 12s 419ms/step - loss: 1.9437e-05 - accuracy: 1.0000 - val_loss: 2.2456 - val_accuracy: 0.5038\n",
      "Epoch 21/30\n",
      "28/28 [==============================] - 12s 416ms/step - loss: 1.5398e-05 - accuracy: 1.0000 - val_loss: 2.2865 - val_accuracy: 0.5023\n",
      "Epoch 22/30\n",
      "28/28 [==============================] - 12s 414ms/step - loss: 1.1320e-05 - accuracy: 1.0000 - val_loss: 2.2966 - val_accuracy: 0.5008\n",
      "Epoch 23/30\n",
      "28/28 [==============================] - 12s 419ms/step - loss: 1.0248e-05 - accuracy: 1.0000 - val_loss: 2.3461 - val_accuracy: 0.4992\n",
      "Epoch 24/30\n",
      "28/28 [==============================] - 12s 414ms/step - loss: 8.9624e-06 - accuracy: 1.0000 - val_loss: 2.3082 - val_accuracy: 0.5008\n",
      "Epoch 25/30\n",
      "28/28 [==============================] - 11s 409ms/step - loss: 7.1710e-06 - accuracy: 1.0000 - val_loss: 2.3424 - val_accuracy: 0.4962\n",
      "Epoch 26/30\n",
      "28/28 [==============================] - 12s 415ms/step - loss: 8.5533e-06 - accuracy: 1.0000 - val_loss: 2.3574 - val_accuracy: 0.4962\n",
      "Epoch 27/30\n",
      "28/28 [==============================] - 12s 419ms/step - loss: 6.6318e-06 - accuracy: 1.0000 - val_loss: 2.4042 - val_accuracy: 0.4902\n",
      "Epoch 28/30\n",
      "28/28 [==============================] - 11s 415ms/step - loss: 5.5887e-06 - accuracy: 1.0000 - val_loss: 2.4501 - val_accuracy: 0.4902\n",
      "Epoch 29/30\n",
      "28/28 [==============================] - 12s 421ms/step - loss: 4.9329e-06 - accuracy: 1.0000 - val_loss: 2.4297 - val_accuracy: 0.4887\n",
      "Epoch 30/30\n",
      "28/28 [==============================] - 12s 420ms/step - loss: 4.5249e-06 - accuracy: 1.0000 - val_loss: 2.4484 - val_accuracy: 0.4857\n"
     ]
    }
   ],
   "source": [
    "# steps_per_epoch = how many batches to process in each epoch\n",
    "# lets take batch size as 100\n",
    "# steps_per_epoch = total training data / batch size = 280 / 10 = 28\n",
    "# the model will process 133 steps from the training dataset in each epoch\n",
    "# epochs = train 30 times\n",
    "model_fit = model.fit(\n",
    "    train_dataset,\n",
    "    steps_per_epoch = 28,\n",
    "    epochs = 30,\n",
    "    validation_data = validation_dataset\n",
    ")"
   ]
  },
  {
   "cell_type": "code",
   "execution_count": 19,
   "id": "65fad23b",
   "metadata": {},
   "outputs": [],
   "source": [
    "model.save('./texture_apple.h5') # save performed morphology model"
   ]
  },
  {
   "cell_type": "code",
   "execution_count": 20,
   "id": "0d9b6e79",
   "metadata": {},
   "outputs": [
    {
     "name": "stdout",
     "output_type": "stream",
     "text": [
      "1/1 [==============================] - 0s 172ms/step\n",
      "[[0.]]\n",
      "[0.]\n",
      "0.0\n",
      "This is an apple\n"
     ]
    }
   ],
   "source": [
    "import cv2\n",
    "import numpy as np\n",
    "import tensorflow as tf\n",
    "\n",
    "# Load the trained model\n",
    "loaded_model = tf.keras.models.load_model('./texture_apple.h5')\n",
    "\n",
    "def compute_lbp(image, radius=1, neighbors=8):\n",
    "    # Convert the image to grayscale if it's in color\n",
    "    if len(image.shape) > 2:\n",
    "        gray = cv2.cvtColor(image, cv2.COLOR_BGR2GRAY)\n",
    "    else:\n",
    "        gray = image\n",
    "\n",
    "    # Compute the LBP image\n",
    "    lbp = np.zeros_like(gray)\n",
    "    for i in range(len(gray)):\n",
    "        for j in range(len(gray[0])):\n",
    "            center = gray[i, j]\n",
    "            pattern = 0\n",
    "            for k in range(neighbors):\n",
    "                x = i + int(round(radius * np.cos(2 * np.pi * k / neighbors)))\n",
    "                y = j - int(round(radius * np.sin(2 * np.pi * k / neighbors)))\n",
    "                if x >= 0 and x < len(gray) and y >= 0 and y < len(gray[0]):\n",
    "                    pattern |= (gray[x, y] >= center) << k\n",
    "            lbp[i, j] = pattern\n",
    "\n",
    "    return lbp\n",
    "\n",
    "# Function to preprocess the image for model input\n",
    "def preprocess_img(edges):\n",
    "    # Expand dimensions to match the expected input shape of the model\n",
    "    edges = np.expand_dims(edges, axis=0)\n",
    "    return edges\n",
    "\n",
    "# Function to run prediction\n",
    "def run_prediction(image_path):\n",
    "    # Perform edge detection\n",
    "    img = cv2.imread(image_path)\n",
    "    img = cv2.resize(img, (256,256))\n",
    "    edges = compute_lbp(img)\n",
    "    \n",
    "    # Preprocess the edges\n",
    "    edges = preprocess_img(edges)\n",
    "    \n",
    "    # Make prediction using the loaded model\n",
    "    prediction = loaded_model.predict(edges)\n",
    "    \n",
    "    # Interpret the prediction\n",
    "    print(prediction)\n",
    "    print(prediction[0])\n",
    "    print(prediction[0][0])\n",
    "    if prediction[0][0] == 0:\n",
    "        print(\"This is an apple\")\n",
    "    else:\n",
    "        print(\"This is a defect apple\")\n",
    "\n",
    "# Example usage:\n",
    "image_path = './testData/21.jpg'\n",
    "run_prediction(image_path)"
   ]
  },
  {
   "cell_type": "code",
   "execution_count": null,
   "id": "60818c22",
   "metadata": {},
   "outputs": [],
   "source": []
  }
 ],
 "metadata": {
  "kernelspec": {
   "display_name": "Python 3 (ipykernel)",
   "language": "python",
   "name": "python3"
  },
  "language_info": {
   "codemirror_mode": {
    "name": "ipython",
    "version": 3
   },
   "file_extension": ".py",
   "mimetype": "text/x-python",
   "name": "python",
   "nbconvert_exporter": "python",
   "pygments_lexer": "ipython3",
   "version": "3.11.5"
  }
 },
 "nbformat": 4,
 "nbformat_minor": 5
}
